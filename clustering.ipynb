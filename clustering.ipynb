{
 "cells": [
  {
   "cell_type": "markdown",
   "metadata": {
    "collapsed": false
   },
   "source": [
    "# Clustering"
   ]
  },
  {
   "cell_type": "markdown",
   "metadata": {
    "collapsed": false
   },
   "source": [
    "## Imports"
   ]
  },
  {
   "cell_type": "code",
   "execution_count": 1,
   "metadata": {
    "ExecuteTime": {
     "end_time": "2023-06-28T12:41:58.247620200Z",
     "start_time": "2023-06-28T12:41:58.113388500Z"
    },
    "collapsed": false
   },
   "outputs": [],
   "source": [
    "import os\n",
    "from subprocess import Popen\n",
    "\n",
    "import re\n",
    "\n",
    "import pandas as pd\n",
    "\n",
    "from sklearn.metrics import silhouette_score"
   ]
  },
  {
   "cell_type": "markdown",
   "metadata": {
    "collapsed": false
   },
   "source": [
    "## Inputs"
   ]
  },
  {
   "cell_type": "code",
   "execution_count": 16,
   "metadata": {
    "ExecuteTime": {
     "end_time": "2023-06-29T14:56:50.477879Z",
     "start_time": "2023-06-29T14:56:50.459602Z"
    },
    "collapsed": false
   },
   "outputs": [],
   "source": [
    "lpms_directory = os.path.abspath(\"./data/lpms\") # this is the directory that includes the sets of local process models\n",
    "scripts_directory = os.path.abspath(\"./scripts/clustering\")\n",
    "\n",
    "res_directory = os.path.abspath(\"results/set_wise\") # this it the directory where results will be outputted"
   ]
  },
  {
   "cell_type": "markdown",
   "metadata": {
    "collapsed": false
   },
   "source": [
    "## Hierarchical clustering"
   ]
  },
  {
   "cell_type": "code",
   "execution_count": 9,
   "metadata": {
    "ExecuteTime": {
     "end_time": "2023-06-28T15:26:31.742823500Z",
     "start_time": "2023-06-28T15:23:37.227662600Z"
    },
    "collapsed": false
   },
   "outputs": [],
   "source": [
    "# cluster\n",
    "cl_processes = []\n",
    "for lpm_set_name in os.listdir(lpms_directory):\n",
    "    distances_dir = os.path.join(res_directory, lpm_set_name, \"distances\")\n",
    "    clustering_dir = os.path.join(res_directory, lpm_set_name, \"clustering\")\n",
    "    if not os.path.exists(clustering_dir):\n",
    "        os.mkdir(clustering_dir)\n",
    "    for file in os.listdir(distances_dir):\n",
    "        match_measure = re.search('model_(.*)_distances.csv', os.path.basename(file))\n",
    "        if match_measure is not None:\n",
    "            measure = match_measure.group(1)\n",
    "            cl_processes.append(Popen([\"python\", os.path.join(scripts_directory, \"clustering_one.py\"), measure, os.path.join(distances_dir, file), clustering_dir]))\n",
    "\n",
    "try:\n",
    "    exitcodes = [p.wait() for p in cl_processes]\n",
    "    if not all(el == 0 for el in exitcodes):\n",
    "        print(\"Some clustering scripts did not finish successfully: \" + str(exitcodes))\n",
    "except KeyboardInterrupt:\n",
    "    [p.kill() for p in cl_processes]"
   ]
  },
  {
   "cell_type": "markdown",
   "metadata": {
    "collapsed": false
   },
   "source": [
    "## Calculate Silhouette Scores"
   ]
  },
  {
   "cell_type": "code",
   "execution_count": 10,
   "metadata": {
    "ExecuteTime": {
     "end_time": "2023-06-28T15:27:00.801422100Z",
     "start_time": "2023-06-28T15:27:00.792644300Z"
    },
    "collapsed": false
   },
   "outputs": [],
   "source": [
    "measures = {\n",
    "    \"efg\": \"efg\",\n",
    "    \"full_trace_matching\": \"full\",\n",
    "    \"ged\": \"ged\",\n",
    "    \"node\": \"node\",\n",
    "    \"transition_label\": \"transition\"\n",
    "}\n",
    "inv_measures = {v: k for k, v in measures.items()}"
   ]
  },
  {
   "cell_type": "code",
   "execution_count": null,
   "metadata": {
    "ExecuteTime": {
     "start_time": "2023-06-30T07:40:33.812348100Z"
    },
    "collapsed": false,
    "is_executing": true
   },
   "outputs": [],
   "source": [
    "# calculate silhouette scores\n",
    "cl_res_df = pd.DataFrame(columns=[\"Event Log\", \"Distance Threshold\", \"Measure\", \"Num Clusters\", \"Iteration\"] + list(\n",
    "    measures.values()))  # create main clustering dataframe\n",
    "\n",
    "for f_log in os.listdir(res_directory):\n",
    "    # import distances for all measure pairs\n",
    "    distances = {}\n",
    "    distances_dir = os.path.join(res_directory, f_log, \"distances\")\n",
    "    for f_dist in os.listdir(distances_dir):\n",
    "        if f_dist.endswith(\"distances.csv\"):\n",
    "            match_measure = re.search('model_(.*)_distances.csv', os.path.basename(f_dist))\n",
    "            if match_measure is not None:\n",
    "                measure = match_measure.group(1)\n",
    "                dist_df = pd.read_csv(os.path.join(distances_dir, f_dist), index_col=0).fillna(1)\n",
    "                np_dist = dist_df.to_numpy()\n",
    "\n",
    "                distances[(f_log, measure)] = np_dist\n",
    "\n",
    "    clustering_dir = os.path.join(res_directory, f_log, \"clustering\")\n",
    "\n",
    "    for f_iter in os.listdir(clustering_dir):\n",
    "        iter_clustering_dir = os.path.join(clustering_dir, f_iter)\n",
    "        for f2 in os.listdir(iter_clustering_dir):\n",
    "            regex_res = re.search(\"clustering_hierarchical_(.*).csv\", f2)\n",
    "            if regex_res is None:\n",
    "                print(f2)\n",
    "                continue\n",
    "            key = tuple(re.split(\"_\", regex_res.groups()[0]))\n",
    "\n",
    "            # read clustering results\n",
    "            cl_res = os.path.join(iter_clustering_dir, f2)\n",
    "            cl_df = pd.read_csv(os.path.abspath(cl_res), index_col=0)\n",
    "            if cl_df[\"Labels\"].nunique() < 2 or cl_df[\"Labels\"].nunique() >= len(cl_df):\n",
    "                continue # silhouette score can not be calculated\n",
    "\n",
    "            num_clusters = len(cl_df[\"Labels\"].unique())\n",
    "            distance_threshold = key[1]\n",
    "            measure = key[2]\n",
    "            log = f_log\n",
    "\n",
    "            # calculate silhouette scores\n",
    "            ss_scores = []\n",
    "            for ss_measure in measures:\n",
    "                ss = silhouette_score(distances[(log, ss_measure)], cl_df[\"Labels\"], metric=\"precomputed\")\n",
    "                ss_scores.append(ss)\n",
    "\n",
    "            # append result to final df\n",
    "            cl_res_df.loc[len(cl_res_df)] = [log, distance_threshold, measure, num_clusters, f_iter] + ss_scores"
   ]
  },
  {
   "cell_type": "code",
   "execution_count": 20,
   "metadata": {
    "ExecuteTime": {
     "end_time": "2023-07-03T07:22:16.458267Z",
     "start_time": "2023-07-03T07:22:12.377036200Z"
    },
    "collapsed": false
   },
   "outputs": [],
   "source": [
    "# save complete silhouette scores\n",
    "\n",
    "ss_dir = os.path.abspath(\"results/ss\")\n",
    "if not os.path.exists(ss_dir):\n",
    "    os.mkdir(ss_dir)\n",
    "cl_res_df.to_csv(os.path.join(ss_dir, \"complete_ss.csv\"), index=False)"
   ]
  },
  {
   "cell_type": "code",
   "execution_count": 21,
   "metadata": {
    "ExecuteTime": {
     "end_time": "2023-07-03T07:22:23.527538800Z",
     "start_time": "2023-07-03T07:22:23.260810800Z"
    },
    "collapsed": false
   },
   "outputs": [
    {
     "data": {
      "text/html": [
       "<div>\n",
       "<style scoped>\n",
       "    .dataframe tbody tr th:only-of-type {\n",
       "        vertical-align: middle;\n",
       "    }\n",
       "\n",
       "    .dataframe tbody tr th {\n",
       "        vertical-align: top;\n",
       "    }\n",
       "\n",
       "    .dataframe thead th {\n",
       "        text-align: right;\n",
       "    }\n",
       "</style>\n",
       "<table border=\"1\" class=\"dataframe\">\n",
       "  <thead>\n",
       "    <tr style=\"text-align: right;\">\n",
       "      <th></th>\n",
       "      <th>Event Log</th>\n",
       "      <th>Distance Threshold</th>\n",
       "      <th>Measure</th>\n",
       "      <th>Num Clusters</th>\n",
       "      <th>Iteration</th>\n",
       "      <th>efg</th>\n",
       "      <th>full</th>\n",
       "      <th>ged</th>\n",
       "      <th>node</th>\n",
       "      <th>transition</th>\n",
       "    </tr>\n",
       "  </thead>\n",
       "  <tbody>\n",
       "    <tr>\n",
       "      <th>0</th>\n",
       "      <td>Road_Traffic_Fine_Management_Process</td>\n",
       "      <td>0.1</td>\n",
       "      <td>efg</td>\n",
       "      <td>52</td>\n",
       "      <td>725</td>\n",
       "      <td>0.419928</td>\n",
       "      <td>0.213831</td>\n",
       "      <td>-0.009251</td>\n",
       "      <td>0.027040</td>\n",
       "      <td>-0.030000</td>\n",
       "    </tr>\n",
       "    <tr>\n",
       "      <th>1</th>\n",
       "      <td>Road_Traffic_Fine_Management_Process</td>\n",
       "      <td>0.4</td>\n",
       "      <td>full</td>\n",
       "      <td>20</td>\n",
       "      <td>725</td>\n",
       "      <td>-0.026918</td>\n",
       "      <td>0.289116</td>\n",
       "      <td>-0.066074</td>\n",
       "      <td>-0.119204</td>\n",
       "      <td>-0.308793</td>\n",
       "    </tr>\n",
       "    <tr>\n",
       "      <th>2</th>\n",
       "      <td>Road_Traffic_Fine_Management_Process</td>\n",
       "      <td>0.8</td>\n",
       "      <td>full</td>\n",
       "      <td>5</td>\n",
       "      <td>725</td>\n",
       "      <td>0.095055</td>\n",
       "      <td>0.153358</td>\n",
       "      <td>0.067034</td>\n",
       "      <td>0.080187</td>\n",
       "      <td>0.025933</td>\n",
       "    </tr>\n",
       "    <tr>\n",
       "      <th>3</th>\n",
       "      <td>Road_Traffic_Fine_Management_Process</td>\n",
       "      <td>0.7</td>\n",
       "      <td>efg</td>\n",
       "      <td>4</td>\n",
       "      <td>725</td>\n",
       "      <td>0.227394</td>\n",
       "      <td>0.133882</td>\n",
       "      <td>0.217704</td>\n",
       "      <td>0.223866</td>\n",
       "      <td>0.323858</td>\n",
       "    </tr>\n",
       "    <tr>\n",
       "      <th>4</th>\n",
       "      <td>Road_Traffic_Fine_Management_Process</td>\n",
       "      <td>0.2</td>\n",
       "      <td>efg</td>\n",
       "      <td>27</td>\n",
       "      <td>725</td>\n",
       "      <td>0.456786</td>\n",
       "      <td>0.169013</td>\n",
       "      <td>0.156027</td>\n",
       "      <td>0.228099</td>\n",
       "      <td>0.150000</td>\n",
       "    </tr>\n",
       "    <tr>\n",
       "      <th>...</th>\n",
       "      <td>...</td>\n",
       "      <td>...</td>\n",
       "      <td>...</td>\n",
       "      <td>...</td>\n",
       "      <td>...</td>\n",
       "      <td>...</td>\n",
       "      <td>...</td>\n",
       "      <td>...</td>\n",
       "      <td>...</td>\n",
       "      <td>...</td>\n",
       "    </tr>\n",
       "    <tr>\n",
       "      <th>436995</th>\n",
       "      <td>Hospital Billing - Event Log</td>\n",
       "      <td>0.4</td>\n",
       "      <td>node</td>\n",
       "      <td>10</td>\n",
       "      <td>26</td>\n",
       "      <td>0.526946</td>\n",
       "      <td>0.245938</td>\n",
       "      <td>0.220801</td>\n",
       "      <td>0.444703</td>\n",
       "      <td>0.685533</td>\n",
       "    </tr>\n",
       "    <tr>\n",
       "      <th>436996</th>\n",
       "      <td>Hospital Billing - Event Log</td>\n",
       "      <td>0.4</td>\n",
       "      <td>efg</td>\n",
       "      <td>3</td>\n",
       "      <td>26</td>\n",
       "      <td>0.306949</td>\n",
       "      <td>0.191029</td>\n",
       "      <td>0.215609</td>\n",
       "      <td>0.336457</td>\n",
       "      <td>0.403731</td>\n",
       "    </tr>\n",
       "    <tr>\n",
       "      <th>436997</th>\n",
       "      <td>Hospital Billing - Event Log</td>\n",
       "      <td>0.1</td>\n",
       "      <td>transition</td>\n",
       "      <td>17</td>\n",
       "      <td>26</td>\n",
       "      <td>0.670775</td>\n",
       "      <td>0.256277</td>\n",
       "      <td>0.252427</td>\n",
       "      <td>0.502523</td>\n",
       "      <td>1.000000</td>\n",
       "    </tr>\n",
       "    <tr>\n",
       "      <th>436998</th>\n",
       "      <td>Hospital Billing - Event Log</td>\n",
       "      <td>0.5</td>\n",
       "      <td>node</td>\n",
       "      <td>9</td>\n",
       "      <td>26</td>\n",
       "      <td>0.503985</td>\n",
       "      <td>0.257692</td>\n",
       "      <td>0.241956</td>\n",
       "      <td>0.437656</td>\n",
       "      <td>0.653824</td>\n",
       "    </tr>\n",
       "    <tr>\n",
       "      <th>436999</th>\n",
       "      <td>Hospital Billing - Event Log</td>\n",
       "      <td>0.1</td>\n",
       "      <td>ged</td>\n",
       "      <td>65</td>\n",
       "      <td>26</td>\n",
       "      <td>-0.259829</td>\n",
       "      <td>-0.113348</td>\n",
       "      <td>0.105774</td>\n",
       "      <td>-0.124416</td>\n",
       "      <td>-0.343611</td>\n",
       "    </tr>\n",
       "  </tbody>\n",
       "</table>\n",
       "<p>437000 rows × 10 columns</p>\n",
       "</div>"
      ],
      "text/plain": [
       "                                   Event Log Distance Threshold     Measure  \\\n",
       "0       Road_Traffic_Fine_Management_Process                0.1         efg   \n",
       "1       Road_Traffic_Fine_Management_Process                0.4        full   \n",
       "2       Road_Traffic_Fine_Management_Process                0.8        full   \n",
       "3       Road_Traffic_Fine_Management_Process                0.7         efg   \n",
       "4       Road_Traffic_Fine_Management_Process                0.2         efg   \n",
       "...                                      ...                ...         ...   \n",
       "436995          Hospital Billing - Event Log                0.4        node   \n",
       "436996          Hospital Billing - Event Log                0.4         efg   \n",
       "436997          Hospital Billing - Event Log                0.1  transition   \n",
       "436998          Hospital Billing - Event Log                0.5        node   \n",
       "436999          Hospital Billing - Event Log                0.1         ged   \n",
       "\n",
       "       Num Clusters Iteration       efg      full       ged      node  \\\n",
       "0                52       725  0.419928  0.213831 -0.009251  0.027040   \n",
       "1                20       725 -0.026918  0.289116 -0.066074 -0.119204   \n",
       "2                 5       725  0.095055  0.153358  0.067034  0.080187   \n",
       "3                 4       725  0.227394  0.133882  0.217704  0.223866   \n",
       "4                27       725  0.456786  0.169013  0.156027  0.228099   \n",
       "...             ...       ...       ...       ...       ...       ...   \n",
       "436995           10        26  0.526946  0.245938  0.220801  0.444703   \n",
       "436996            3        26  0.306949  0.191029  0.215609  0.336457   \n",
       "436997           17        26  0.670775  0.256277  0.252427  0.502523   \n",
       "436998            9        26  0.503985  0.257692  0.241956  0.437656   \n",
       "436999           65        26 -0.259829 -0.113348  0.105774 -0.124416   \n",
       "\n",
       "        transition  \n",
       "0        -0.030000  \n",
       "1        -0.308793  \n",
       "2         0.025933  \n",
       "3         0.323858  \n",
       "4         0.150000  \n",
       "...            ...  \n",
       "436995    0.685533  \n",
       "436996    0.403731  \n",
       "436997    1.000000  \n",
       "436998    0.653824  \n",
       "436999   -0.343611  \n",
       "\n",
       "[437000 rows x 10 columns]"
      ]
     },
     "execution_count": 21,
     "metadata": {},
     "output_type": "execute_result"
    }
   ],
   "source": [
    "cl_res_df"
   ]
  },
  {
   "cell_type": "code",
   "execution_count": null,
   "metadata": {
    "collapsed": false
   },
   "outputs": [],
   "source": []
  }
 ],
 "metadata": {
  "kernelspec": {
   "display_name": "Python 3",
   "language": "python",
   "name": "python3"
  },
  "language_info": {
   "codemirror_mode": {
    "name": "ipython",
    "version": 2
   },
   "file_extension": ".py",
   "mimetype": "text/x-python",
   "name": "python",
   "nbconvert_exporter": "python",
   "pygments_lexer": "ipython2",
   "version": "2.7.6"
  }
 },
 "nbformat": 4,
 "nbformat_minor": 0
}
