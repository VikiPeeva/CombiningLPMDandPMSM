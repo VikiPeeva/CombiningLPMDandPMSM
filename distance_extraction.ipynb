{
 "cells": [
  {
   "cell_type": "markdown",
   "source": [
    "# Distance Extraction\n",
    "\n",
    "Going through this notebook will result in computed distances between local process models for each of the provided local process model sets."
   ],
   "metadata": {
    "collapsed": false
   }
  },
  {
   "cell_type": "markdown",
   "source": [
    "## Imports"
   ],
   "metadata": {
    "collapsed": false
   }
  },
  {
   "cell_type": "code",
   "execution_count": 8,
   "outputs": [],
   "source": [
    "import os\n",
    "\n",
    "from subprocess import Popen"
   ],
   "metadata": {
    "collapsed": false,
    "ExecuteTime": {
     "end_time": "2023-06-14T22:26:44.004679500Z",
     "start_time": "2023-06-14T22:26:43.981837800Z"
    }
   }
  },
  {
   "cell_type": "markdown",
   "source": [
    "## Inputs"
   ],
   "metadata": {
    "collapsed": false
   }
  },
  {
   "cell_type": "code",
   "execution_count": 12,
   "outputs": [
    {
     "name": "stdout",
     "output_type": "stream",
     "text": [
      "C:\\Users\\peeva\\My\\code\\my\\CombiningLPMDandPMSM\\scripts\n"
     ]
    }
   ],
   "source": [
    "lpms_directory = os.path.abspath(\"./data/lpms\") # this is the directory that includes the sets of local process models\n",
    "scripts_directory = os.path.abspath(\"./scripts\")\n",
    "print(scripts_directory)\n",
    "\n",
    "res_directory = os.path.abspath(\"results\") # this it the directory where results will be outputted\n",
    "res_traceextraction = os.path.join(res_directory, \"\")"
   ],
   "metadata": {
    "collapsed": false,
    "ExecuteTime": {
     "end_time": "2023-06-14T22:27:45.847507400Z",
     "start_time": "2023-06-14T22:27:45.832510900Z"
    }
   }
  },
  {
   "cell_type": "markdown",
   "source": [
    "## Pre-computation\n",
    "\n",
    "Since multiple measures are based on the language of the models, we precompute the traces each model can replay."
   ],
   "metadata": {
    "collapsed": false
   }
  },
  {
   "cell_type": "code",
   "execution_count": 18,
   "outputs": [],
   "source": [
    "tr_processes = []\n",
    "for lpm_set_name in os.listdir(lpms_directory):\n",
    "    lpms_set = os.path.join(lpms_directory, lpm_set_name)\n",
    "    if os.path.isdir(lpms_set):\n",
    "        res_lpmspecific = os.path.join(res_directory, lpm_set_name)\n",
    "        if not os.path.exists(res_lpmspecific): os.mkdir(res_lpmspecific)\n",
    "        tr_processes.append(Popen([\"python\", os.path.join(scripts_directory, \"model_trace_extraction.py\"), lpms_set, res_lpmspecific]))\n",
    "\n",
    "try:\n",
    "    exitcodes = [p.wait() for p in tr_processes]\n",
    "    if not all(el == 0 for el in exitcodes):\n",
    "        print(\"Some trace extraction scripts did not finish successfully: \" + str(exitcodes))\n",
    "except KeyboardInterrupt:\n",
    "    [p.kill() for p in tr_processes]\n",
    "    print(\"Some trace extraction scripts did not finish successfully.\")"
   ],
   "metadata": {
    "collapsed": false,
    "ExecuteTime": {
     "end_time": "2023-06-14T22:46:57.191860400Z",
     "start_time": "2023-06-14T22:46:53.785844400Z"
    }
   }
  },
  {
   "cell_type": "markdown",
   "source": [
    "## Distance calculations"
   ],
   "metadata": {
    "collapsed": false
   }
  },
  {
   "cell_type": "code",
   "execution_count": 17,
   "outputs": [],
   "source": [
    "# extract distances\n",
    "dist_processes = []\n",
    "for lpm_set_name in os.listdir(lpms_directory):\n",
    "    lpms_set = os.path.join(lpms_directory, lpm_set_name)\n",
    "    if os.path.isdir(lpms_set):\n",
    "        res_lpmspecific = os.path.join(res_directory, lpm_set_name)\n",
    "        res_distances = os.path.join(res_lpmspecific, \"distances\")\n",
    "        if not os.path.exists(res_distances): os.mkdir(res_distances)\n",
    "\n",
    "        trace_lpmsspecific = os.path.join(res_lpmspecific, \"model_traces.csv\")\n",
    "\n",
    "        dist_processes.append(Popen([\"python\", os.path.join(scripts_directory, \"distance_calculation/model_transition_label_distance.py\"), lpms_set, res_distances]))\n",
    "        dist_processes.append(Popen([\"python\", os.path.join(scripts_directory, \"distance_calculation/model_trace_distance.py\"), trace_lpmsspecific, res_distances]))\n",
    "        dist_processes.append(Popen([\"python\", os.path.join(scripts_directory, \"distance_calculation/model_node_distance.py\"), lpms_set, res_distances]))\n",
    "        dist_processes.append(Popen([\"python\", os.path.join(scripts_directory, \"distance_calculation/model_efg_distance.py\"), trace_lpmsspecific, res_distances]))\n",
    "        dist_processes.append(Popen([\"python\", os.path.join(scripts_directory, \"distance_calculation/model_ged_distance.py\"), lpms_set, res_distances]))\n",
    "\n",
    "try:\n",
    "    exitcodes = [p.wait() for p in dist_processes]\n",
    "    if not all(el == 0 for el in exitcodes):\n",
    "        print(\"Some distance calculation scripts did not finish successfully: \" + str(exitcodes))\n",
    "except KeyboardInterrupt:\n",
    "    [p.kill() for p in dist_processes]\n",
    "    print(\"Some distance calculation scripts did not finish successfully.\")"
   ],
   "metadata": {
    "collapsed": false,
    "ExecuteTime": {
     "end_time": "2023-06-14T22:35:47.433991300Z",
     "start_time": "2023-06-14T22:35:38.689360500Z"
    }
   }
  },
  {
   "cell_type": "code",
   "execution_count": null,
   "outputs": [],
   "source": [],
   "metadata": {
    "collapsed": false
   }
  }
 ],
 "metadata": {
  "kernelspec": {
   "display_name": "Python 3",
   "language": "python",
   "name": "python3"
  },
  "language_info": {
   "codemirror_mode": {
    "name": "ipython",
    "version": 2
   },
   "file_extension": ".py",
   "mimetype": "text/x-python",
   "name": "python",
   "nbconvert_exporter": "python",
   "pygments_lexer": "ipython2",
   "version": "2.7.6"
  }
 },
 "nbformat": 4,
 "nbformat_minor": 0
}
